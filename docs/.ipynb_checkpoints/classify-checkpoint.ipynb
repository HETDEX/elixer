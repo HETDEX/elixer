{
 "cells": [
  {
   "cell_type": "markdown",
   "metadata": {},
   "source": [
    "# Example - using ELiXer classify API to calculate P(LAE)/P(OII\n",
    "\n",
    "\n",
    "This API is fairly limited in this version. You are responsible for determining on your own the key parameters. A future version of ELiXer will provide additional APIs to facilitate this.\n",
    "\n",
    "In short, however, you might typically take the wave, flux, and flux_err from the HETDEX detection data. The equivalent width could then been calcuated from the HETDEX continuum estimate or from the aperture or catalog match magnitude as in the catalogs.ipynb examples.\n"
   ]
  },
  {
   "cell_type": "markdown",
   "metadata": {},
   "source": [
    "# if you are referencing the HDR1 directory or copied elixer locally, execute this cell (with the correct path to elixer)"
   ]
  },
  {
   "cell_type": "code",
   "execution_count": null,
   "metadata": {},
   "outputs": [],
   "source": [
    "# if you are referencing the HDR1 directory or copied elixer locally, execute this cell (with the correct path to elixer)\n",
    "import sys\n",
    "sys.path.append('/work/03946/hetdex/hdr1/software/elixer')\n",
    "import classify\n",
    "import catalogs"
   ]
  },
  {
   "cell_type": "markdown",
   "metadata": {},
   "source": [
    "# if you installed elixer with pip, execute this cell instead. If you are using Python3.x you will likely receive a series of deprecation warnings. For now, this is okay."
   ]
  },
  {
   "cell_type": "code",
   "execution_count": 1,
   "metadata": {},
   "outputs": [
    {
     "name": "stderr",
     "output_type": "stream",
     "text": [
      "WARNING: AstropyDeprecationWarning: \"iters\" was deprecated in version 3.1 and will be removed in a future version. Use argument \"maxiters\" instead. [photutils.background.core]\n",
      "WARNING: AstropyDeprecationWarning: \"iters\" was deprecated in version 3.1 and will be removed in a future version. Use argument \"maxiters\" instead. [photutils.background.core]\n",
      "WARNING: AstropyDeprecationWarning: \"iters\" was deprecated in version 3.1 and will be removed in a future version. Use argument \"maxiters\" instead. [photutils.background.background_2d]\n"
     ]
    }
   ],
   "source": [
    "# if you installed elixer with pip, execute this cell\n",
    "from elixer import catalogs\n",
    "from elixer import classify"
   ]
  },
  {
   "cell_type": "markdown",
   "metadata": {},
   "source": [
    "# Request package help information"
   ]
  },
  {
   "cell_type": "code",
   "execution_count": 2,
   "metadata": {},
   "outputs": [
    {
     "name": "stdout",
     "output_type": "stream",
     "text": [
      "Help on module elixer.classify in elixer:\n",
      "\n",
      "NAME\n",
      "    elixer.classify - #API Wrapper for classification (mostly P(LAE)/P(OII))\n",
      "\n",
      "FUNCTIONS\n",
      "    plae_poii(line_wave, line_flux, line_flux_err, eqw_obs, eqw_obs_err, addl_wave=[], addl_flux=[], addl_flux_err=[])\n",
      "        Returns the Bayesian P(LAE)/P(OII) from EW distributions of LAEs and OII galaxies from\n",
      "        Leung+ 2017\n",
      "        \n",
      "        Maximum P(LAE)/P(OII) is capped at 999. There is no minimum value but 0.0 represents an\n",
      "        error or inability to calcluate the ratio.\n",
      "        \n",
      "        Uses ELiXer standard options and cosmology\n",
      "        \n",
      "        :param line_wave:  observed wavelength of the emission line in angstroms\n",
      "        :param line_flux:  observed line flux (cgs)\n",
      "        :param line_flux_err: observed line flux error (cgs)\n",
      "        :param eqw_obs: observed equivalent width\n",
      "        :param eqw_obs_err: observed equivalent width error\n",
      "        :param addl_wave: array of additional emission line wavelengths in angstroms\n",
      "        :param addl_flux: array of additional emission line fluxes (cgs)\n",
      "        :param addl_flux_err: array of additional emission line flux errors (cgs)\n",
      "        :return: P(LAE)/P(OII), P(LAE|data), P(OII|data) a zero value is an unknown\n",
      "\n",
      "DATA\n",
      "    log = <elixer.global_config.Global_Logger object>\n",
      "\n",
      "FILE\n",
      "    /home/dustin/.local/lib/python3.6/site-packages/elixer/classify.py\n",
      "\n",
      "\n"
     ]
    }
   ],
   "source": [
    "help(classify)\n",
    "\n",
    "\n",
    "#you can also request help on individual functions\n",
    "#help(classify.plae_poii)"
   ]
  },
  {
   "cell_type": "markdown",
   "metadata": {},
   "source": [
    "wave = 3711.0\n",
    "flux = 1.62e-15\n",
    "flux_err = 4.0e-17\n",
    "ew = 500.0\n",
    "ew_err = 60.0\n",
    "addl_wave = []\n",
    "addl_flux = []\n",
    "addl_flux_err = []\n",
    "classify.plae_poii(wave,flux,flux_err,ew,ew_err,None,None,None)"
   ]
  },
  {
   "cell_type": "markdown",
   "metadata": {},
   "source": [
    "# Example call\n",
    "\n",
    "In this case, this strongly favors LyA over OII (in point of fact, given the wavelength, OII is not possible)."
   ]
  },
  {
   "cell_type": "code",
   "execution_count": 3,
   "metadata": {},
   "outputs": [
    {
     "data": {
      "text/plain": [
       "(999, 1.0, 9.999999999999999e-33)"
      ]
     },
     "execution_count": 3,
     "metadata": {},
     "output_type": "execute_result"
    }
   ],
   "source": [
    "wave = 3711.0 \n",
    "flux = 1.7e-15 \n",
    "flux_err = 4.0e-17 \n",
    "ew = 600.0 \n",
    "ew_err = 0.0 \n",
    "\n",
    "classify.plae_poii(wave,flux,flux_err,ew,ew_err,None,None,None)\n"
   ]
  },
  {
   "cell_type": "markdown",
   "metadata": {},
   "source": [
    "# Using mostly the same data, we place the line at a longer wavelength where OII is possible and reduce the equivalent width\n",
    "\n",
    "Now, this strongly suggests OII is far more likely than LyA"
   ]
  },
  {
   "cell_type": "code",
   "execution_count": 12,
   "metadata": {},
   "outputs": [
    {
     "data": {
      "text/plain": [
       "(0.0528704691602368, 0.05021554949908128, 0.9497844505009188)"
      ]
     },
     "execution_count": 12,
     "metadata": {},
     "output_type": "execute_result"
    }
   ],
   "source": [
    "wave = 4711.0 \n",
    "flux = 1.7e-15 \n",
    "flux_err = 4.0e-17 \n",
    "ew = 300.0 \n",
    "ew_err = 0.0 \n",
    "\n",
    "classify.plae_poii(wave,flux,flux_err,ew,ew_err,None,None,None)"
   ]
  },
  {
   "cell_type": "code",
   "execution_count": null,
   "metadata": {},
   "outputs": [],
   "source": []
  }
 ],
 "metadata": {
  "kernelspec": {
   "display_name": "Python 3",
   "language": "python",
   "name": "python3"
  },
  "language_info": {
   "codemirror_mode": {
    "name": "ipython",
    "version": 3
   },
   "file_extension": ".py",
   "mimetype": "text/x-python",
   "name": "python",
   "nbconvert_exporter": "python",
   "pygments_lexer": "ipython3",
   "version": "3.6.8"
  }
 },
 "nbformat": 4,
 "nbformat_minor": 1
}
